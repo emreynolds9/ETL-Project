{
 "cells": [
  {
   "cell_type": "code",
   "execution_count": 1,
   "metadata": {},
   "outputs": [],
   "source": [
    "import pandas as pd"
   ]
  },
  {
   "cell_type": "code",
   "execution_count": 2,
   "metadata": {},
   "outputs": [],
   "source": [
    "hfi = pd.read_csv(\"Resources\\human-freedom-index.csv\")"
   ]
  },
  {
   "cell_type": "code",
   "execution_count": 57,
   "metadata": {
    "collapsed": true
   },
   "outputs": [
    {
     "data": {
      "text/plain": [
       "Unnamed: 0                            162\n",
       "year                                  162\n",
       "ISO_code                              162\n",
       "Country                               162\n",
       "region                                162\n",
       "hf_score                              162\n",
       "hf_rank                               162\n",
       "hf_quartile                           162\n",
       "pf_rol_procedural                     105\n",
       "pf_rol_civil                          105\n",
       "pf_rol_criminal                       105\n",
       "pf_rol                                162\n",
       "pf_ss_homicide                        162\n",
       "pf_ss_disappearances_disap            161\n",
       "pf_ss_disappearances_violent          162\n",
       "pf_ss_disappearances_organized        151\n",
       "pf_ss_disappearances_fatalities       162\n",
       "pf_ss_disappearances_injuries         162\n",
       "pf_ss_disappearances                  162\n",
       "pf_ss_women_fgm                       151\n",
       "pf_ss_women_missing                   152\n",
       "pf_ss_women_inheritance_widows        157\n",
       "pf_ss_women_inheritance_daughters     157\n",
       "pf_ss_women_inheritance               157\n",
       "pf_ss_women                           157\n",
       "pf_ss                                 162\n",
       "pf_movement_domestic                  158\n",
       "pf_movement_foreign                   158\n",
       "pf_movement_women                     152\n",
       "pf_movement                           162\n",
       "                                     ... \n",
       "ef_trade_regulatory_nontariff         152\n",
       "ef_trade_regulatory_compliance        162\n",
       "ef_trade_regulatory                   162\n",
       "ef_trade_black                        161\n",
       "ef_trade_movement_foreign             152\n",
       "ef_trade_movement_capital             161\n",
       "ef_trade_movement_visit               161\n",
       "ef_trade_movement                     162\n",
       "ef_trade                              162\n",
       "ef_regulation_credit_ownership        147\n",
       "ef_regulation_credit_private          162\n",
       "ef_regulation_credit_interest         160\n",
       "ef_regulation_credit                  162\n",
       "ef_regulation_labor_minwage           161\n",
       "ef_regulation_labor_firing            152\n",
       "ef_regulation_labor_bargain           152\n",
       "ef_regulation_labor_hours             161\n",
       "ef_regulation_labor_dismissal         159\n",
       "ef_regulation_labor_conscription      162\n",
       "ef_regulation_labor                   162\n",
       "ef_regulation_business_adm            152\n",
       "ef_regulation_business_bureaucracy    162\n",
       "ef_regulation_business_start          162\n",
       "ef_regulation_business_bribes         152\n",
       "ef_regulation_business_licensing      159\n",
       "ef_regulation_business_compliance     162\n",
       "ef_regulation_business                162\n",
       "ef_regulation                         162\n",
       "ef_score                              162\n",
       "ef_rank                               162\n",
       "Length: 124, dtype: int64"
      ]
     },
     "execution_count": 57,
     "metadata": {},
     "output_type": "execute_result"
    }
   ],
   "source": [
    "hfi = hfi.loc[hfi['year']==2016]\n",
    "hfi = hfi.rename(columns={\n",
    "    \"countries\":\"Country\"\n",
    "})\n",
    "country_code = hfi.iloc[:,[2,3]]\n",
    "hfi.count()"
   ]
  },
  {
   "cell_type": "code",
   "execution_count": 97,
   "metadata": {},
   "outputs": [
    {
     "data": {
      "text/plain": [
       "132"
      ]
     },
     "execution_count": 97,
     "metadata": {},
     "output_type": "execute_result"
    }
   ],
   "source": [
    "gef = pd.read_csv(\"Resources\\global-eco-footprint.csv\")\n",
    "merged = pd.merge(gef, hfi,how='inner', on='Country')\n",
    "# gef_w_ISO = gef_w_ISO.loc[gef_w_ISO[\"ISO_code\"]==\"\",[\"ISO_code\",\"Country\"]]\n",
    "# gef_w_ISO.to_csv(\"test.csv\",index=False)\n",
    "\n",
    "merged.Country.count()"
   ]
  },
  {
   "cell_type": "code",
   "execution_count": 83,
   "metadata": {},
   "outputs": [
    {
     "data": {
      "text/plain": [
       "Country                            object\n",
       "Region                             object\n",
       "Population (millions)             float64\n",
       "HDI                               float64\n",
       "GDP per Capita                     object\n",
       "Cropland Footprint                float64\n",
       "Grazing Footprint                 float64\n",
       "Forest Footprint                  float64\n",
       "Carbon Footprint                  float64\n",
       "Fish Footprint                    float64\n",
       "Total Ecological Footprint        float64\n",
       "Cropland                          float64\n",
       "Grazing Land                      float64\n",
       "Forest Land                       float64\n",
       "Fishing Water                     float64\n",
       "Urban Land                        float64\n",
       "Total Biocapacity                 float64\n",
       "Biocapacity Deficit or Reserve    float64\n",
       "Earths Required                   float64\n",
       "Countries Required                float64\n",
       "Data Quality                       object\n",
       "ISO_code                           object\n",
       "dtype: object"
      ]
     },
     "execution_count": 83,
     "metadata": {},
     "output_type": "execute_result"
    }
   ],
   "source": []
  },
  {
   "cell_type": "code",
   "execution_count": 54,
   "metadata": {},
   "outputs": [
    {
     "data": {
      "text/plain": [
       "Unnamed: 0                              int64\n",
       "year                                    int64\n",
       "ISO_code                               object\n",
       "Country                                object\n",
       "region                                 object\n",
       "hf_score                              float64\n",
       "hf_rank                               float64\n",
       "hf_quartile                           float64\n",
       "pf_rol_procedural                     float64\n",
       "pf_rol_civil                          float64\n",
       "pf_rol_criminal                       float64\n",
       "pf_rol                                float64\n",
       "pf_ss_homicide                        float64\n",
       "pf_ss_disappearances_disap            float64\n",
       "pf_ss_disappearances_violent          float64\n",
       "pf_ss_disappearances_organized        float64\n",
       "pf_ss_disappearances_fatalities       float64\n",
       "pf_ss_disappearances_injuries         float64\n",
       "pf_ss_disappearances                  float64\n",
       "pf_ss_women_fgm                       float64\n",
       "pf_ss_women_missing                   float64\n",
       "pf_ss_women_inheritance_widows        float64\n",
       "pf_ss_women_inheritance_daughters     float64\n",
       "pf_ss_women_inheritance               float64\n",
       "pf_ss_women                           float64\n",
       "pf_ss                                 float64\n",
       "pf_movement_domestic                  float64\n",
       "pf_movement_foreign                   float64\n",
       "pf_movement_women                     float64\n",
       "pf_movement                           float64\n",
       "                                       ...   \n",
       "ef_trade_regulatory_nontariff         float64\n",
       "ef_trade_regulatory_compliance        float64\n",
       "ef_trade_regulatory                   float64\n",
       "ef_trade_black                        float64\n",
       "ef_trade_movement_foreign             float64\n",
       "ef_trade_movement_capital             float64\n",
       "ef_trade_movement_visit               float64\n",
       "ef_trade_movement                     float64\n",
       "ef_trade                              float64\n",
       "ef_regulation_credit_ownership        float64\n",
       "ef_regulation_credit_private          float64\n",
       "ef_regulation_credit_interest         float64\n",
       "ef_regulation_credit                  float64\n",
       "ef_regulation_labor_minwage           float64\n",
       "ef_regulation_labor_firing            float64\n",
       "ef_regulation_labor_bargain           float64\n",
       "ef_regulation_labor_hours             float64\n",
       "ef_regulation_labor_dismissal         float64\n",
       "ef_regulation_labor_conscription      float64\n",
       "ef_regulation_labor                   float64\n",
       "ef_regulation_business_adm            float64\n",
       "ef_regulation_business_bureaucracy    float64\n",
       "ef_regulation_business_start          float64\n",
       "ef_regulation_business_bribes         float64\n",
       "ef_regulation_business_licensing      float64\n",
       "ef_regulation_business_compliance     float64\n",
       "ef_regulation_business                float64\n",
       "ef_regulation                         float64\n",
       "ef_score                              float64\n",
       "ef_rank                               float64\n",
       "Length: 124, dtype: object"
      ]
     },
     "execution_count": 54,
     "metadata": {},
     "output_type": "execute_result"
    }
   ],
   "source": []
  },
  {
   "cell_type": "code",
   "execution_count": null,
   "metadata": {},
   "outputs": [],
   "source": []
  },
  {
   "cell_type": "code",
   "execution_count": null,
   "metadata": {},
   "outputs": [],
   "source": []
  }
 ],
 "metadata": {
  "kernelspec": {
   "display_name": "Python 3",
   "language": "python",
   "name": "python3"
  },
  "language_info": {
   "codemirror_mode": {
    "name": "ipython",
    "version": 3
   },
   "file_extension": ".py",
   "mimetype": "text/x-python",
   "name": "python",
   "nbconvert_exporter": "python",
   "pygments_lexer": "ipython3",
   "version": "3.6.7"
  }
 },
 "nbformat": 4,
 "nbformat_minor": 2
}
